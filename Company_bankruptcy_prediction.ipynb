{
 "cells": [
  {
   "cell_type": "code",
   "execution_count": 2,
   "metadata": {},
   "outputs": [],
   "source": [
    "\n",
    "import numpy as np\n",
    "import pandas as pd\n",
    "import matplotlib.pyplot as plt\n",
    "from sklearn import datasets\n",
    "from sklearn.decomposition import PCA\n",
    "from sklearn.model_selection import train_test_split\n",
    "from sklearn.linear_model import LinearRegression\n",
    "from sklearn.linear_model import LassoCV\n",
    "from sklearn.feature_selection import SelectFromModel\n",
    "from sklearn.svm import LinearSVC\n",
    "import statsmodels.api as sm\n",
    "from scipy import stats\n",
    "import warnings\n",
    "warnings.filterwarnings('ignore')"
   ]
  },
  {
   "cell_type": "code",
   "execution_count": 3,
   "metadata": {},
   "outputs": [],
   "source": [
    "df = pd.read_csv(\"/Users/taejoonkim/desktop/csc/csc422/PROJECT/CSV/data.csv\")\n",
    "X = df.iloc[:,:-1]\n",
    "y = df.iloc[:,-1]\n"
   ]
  },
  {
   "cell_type": "code",
   "execution_count": 4,
   "metadata": {},
   "outputs": [],
   "source": [
    "X_train_unscaled, X_test_unscaled, y_train, y_test = train_test_split(X,y,test_size=0.2,random_state=0)"
   ]
  },
  {
   "cell_type": "code",
   "execution_count": 5,
   "metadata": {},
   "outputs": [],
   "source": [
    "# For regression, it is particularly important to normalize our data before\n",
    "# training the model, so we can better interpret our coefficients\n",
    "from sklearn.preprocessing import StandardScaler\n",
    "scaler = StandardScaler()\n",
    "scaler.fit(X_train_unscaled)\n",
    "X_train = scaler.transform(X_train_unscaled)\n",
    "X_test = scaler.transform(X_test_unscaled)"
   ]
  },
  {
   "cell_type": "code",
   "execution_count": 6,
   "metadata": {},
   "outputs": [
    {
     "name": "stdout",
     "output_type": "stream",
     "text": [
      "[ 2.01792900e-04 -9.25075646e-03  2.30658159e-04  4.43488628e-03\n",
      " -1.63142110e+00 -4.76635388e-02  1.82226158e+02 -1.50350283e+02\n",
      " -1.87107146e-01  7.45910243e+01  5.05034869e-02  1.45570098e-04\n",
      " -1.67610691e-03 -1.88798984e-02 -7.26573888e-04  3.68458285e-05\n",
      " -1.09694363e-02  1.51004843e-02 -5.48878924e-03 -1.11500930e-03\n",
      " -9.54174367e-04  1.18077583e-02 -6.22191998e-05  3.10204959e-03\n",
      "  2.59006614e-04  6.36916444e-04 -9.88187970e-05 -2.15149896e-04\n",
      " -2.78421821e-04 -4.13218536e-04 -2.00839162e-03 -6.70893200e-04\n",
      "  1.99004072e-03 -3.66693694e-05 -1.17087356e-03  1.51971006e-04\n",
      "  1.26821590e-02  1.10057722e+11  1.10057722e+11  2.02832848e-03\n",
      "  4.15941861e-03 -1.17323747e-02 -6.60357131e-04  1.41018144e-03\n",
      " -5.35426860e-03 -5.14635402e-03 -4.59411069e-04 -1.07420929e-04\n",
      " -5.09818712e-04  1.93526964e-03  4.00726419e-03 -1.44701643e-02\n",
      "  3.06641329e-04 -2.96440206e-04  1.42304574e+05  2.72119861e-03\n",
      " -1.43731396e+05  2.43822602e-03  1.69448123e-04  4.80456166e-04\n",
      "  1.08302465e+05  3.13900388e-02 -4.79915301e-04  5.09970758e-04\n",
      " -4.21371768e+09  1.38439000e-02  1.33596463e+10 -1.16340051e-04\n",
      " -3.43461752e-03  4.24429274e-04 -2.69417138e-03  4.62019435e-04\n",
      "  1.41885749e-03  3.71687942e-02 -3.58921372e-04  1.17926841e-02\n",
      " -6.56632453e-04  4.21371768e+09 -1.33596463e+10  7.88900271e-04\n",
      "  9.72092795e-03 -1.35336737e-02 -1.25305276e-02 -5.88589564e-03\n",
      " -5.86726549e-05  8.21843661e-03 -4.81890694e-04  1.35696100e-03\n",
      "  7.79299159e-04  1.67999300e+00  1.21628709e-02  7.42580119e-03\n",
      " -3.20839497e-04  4.87092485e-04  0.00000000e+00]\n",
      "alpha = 0.04718186328746559\n"
     ]
    }
   ],
   "source": [
    "lrm = LinearRegression(normalize=False)\n",
    "lrm.fit(X_train, y_train)\n",
    "importance = lrm.coef_\n",
    "print(importance)\n",
    "print(f'alpha = {lrm.intercept_}')"
   ]
  },
  {
   "cell_type": "code",
   "execution_count": 7,
   "metadata": {},
   "outputs": [],
   "source": [
    "\n",
    "def alda_regression_lasso(X_train, X_test, y_train, random_state=0):\n",
    "    lrm = LassoCV(cv=10, random_state = random_state).fit(X_train, y_train)\n",
    "    pred = lrm.predict(X_test)\n",
    "    result = (lrm, pred)\n",
    "    return result"
   ]
  },
  {
   "cell_type": "code",
   "execution_count": 9,
   "metadata": {
    "scrolled": true
   },
   "outputs": [
    {
     "data": {
      "image/png": "[encoded data removed]",
      "text/plain": [
       "<Figure size 432x288 with 1 Axes>"
      ]
     },
     "metadata": {
      "needs_background": "light"
     },
     "output_type": "display_data"
    },
    {
     "name": "stdout",
     "output_type": "stream",
     "text": [
      "[0.00000000e+00 1.61789737e-03 0.00000000e+00 0.00000000e+00\n",
      " 0.00000000e+00 2.09688892e-03 0.00000000e+00 0.00000000e+00\n",
      " 0.00000000e+00 5.16934309e-03 2.05387470e-03 0.00000000e+00\n",
      " 1.49934732e-03 6.18170779e-03 0.00000000e+00 0.00000000e+00\n",
      " 0.00000000e+00 0.00000000e+00 0.00000000e+00 0.00000000e+00\n",
      " 0.00000000e+00 1.24238986e-02 0.00000000e+00 0.00000000e+00\n",
      " 0.00000000e+00 0.00000000e+00 0.00000000e+00 0.00000000e+00\n",
      " 0.00000000e+00 2.10052562e-04 6.47645591e-05 0.00000000e+00\n",
      " 0.00000000e+00 0.00000000e+00 0.00000000e+00 0.00000000e+00\n",
      " 1.03665208e-02 3.01211240e-02 1.47188504e-16 1.85414171e-03\n",
      " 1.23164554e-03 0.00000000e+00 0.00000000e+00 0.00000000e+00\n",
      " 2.13561809e-03 4.75467337e-03 2.05945808e-04 0.00000000e+00\n",
      " 0.00000000e+00 1.02295282e-03 3.55873514e-03 4.60157607e-03\n",
      " 0.00000000e+00 0.00000000e+00 0.00000000e+00 7.72587126e-04\n",
      " 0.00000000e+00 4.13702309e-03 0.00000000e+00 0.00000000e+00\n",
      " 0.00000000e+00 1.76568818e-02 0.00000000e+00 0.00000000e+00\n",
      " 0.00000000e+00 0.00000000e+00 0.00000000e+00 0.00000000e+00\n",
      " 6.60446632e-04 0.00000000e+00 0.00000000e+00 0.00000000e+00\n",
      " 0.00000000e+00 3.75747791e-03 4.95818417e-04 0.00000000e+00\n",
      " 0.00000000e+00 0.00000000e+00 0.00000000e+00 0.00000000e+00\n",
      " 0.00000000e+00 5.53852697e-03 7.75454495e-03 0.00000000e+00\n",
      " 0.00000000e+00 4.24750686e-03 0.00000000e+00 1.02007992e-03\n",
      " 5.91986188e-05 0.00000000e+00 0.00000000e+00 0.00000000e+00\n",
      " 0.00000000e+00 0.00000000e+00 0.00000000e+00]\n",
      " Debt ratio %\n",
      " Operating Funds to Liability\n",
      " Revenue Per Share (Yuan ¥)\n",
      " Total debt/Total net worth\n",
      " CFO to Assets\n",
      " Cash flow rate\n",
      " Cash Flow to Liability\n",
      " Non-industry income and expenditure/revenue\n",
      " Total Asset Turnover\n",
      " Revenue per person\n"
     ]
    }
   ],
   "source": [
    "\n",
    "lasso_model, lasso_predictions = alda_regression_lasso(X_train, X_test, y_train)\n",
    "importance = np.abs(lasso_model.coef_)\n",
    "    \n",
    "plt.bar(height=importance, x=df.columns[:95])\n",
    "plt.title(\"Feature importances via coefficients\")\n",
    "plt.show()\n",
    "\n",
    "print(importance)\n",
    "coef_list = []\n",
    "for i in range(len(importance)):\n",
    "    bestAttributeIdx = np.argmax(importance)\n",
    "    coef_list.append(bestAttributeIdx)\n",
    "    importance[bestAttributeIdx] = 0\n",
    "for i in coef_list[:10]:\n",
    "    print(df.columns[i])\n",
    "          \n",
    "\n"
   ]
  },
  {
   "cell_type": "code",
   "execution_count": null,
   "metadata": {},
   "outputs": [],
   "source": []
  },
  {
   "cell_type": "code",
   "execution_count": null,
   "metadata": {},
   "outputs": [],
   "source": []
  },
  {
   "cell_type": "code",
   "execution_count": null,
   "metadata": {},
   "outputs": [],
   "source": []
  },
  {
   "cell_type": "code",
   "execution_count": null,
   "metadata": {},
   "outputs": [],
   "source": []
  }
 ],
 "metadata": {
  "kernelspec": {
   "display_name": "Python 3",
   "language": "python",
   "name": "python3"
  },
  "language_info": {
   "codemirror_mode": {
    "name": "ipython",
    "version": 3
   },
   "file_extension": ".py",
   "mimetype": "text/x-python",
   "name": "python",
   "nbconvert_exporter": "python",
   "pygments_lexer": "ipython3",
   "version": "3.8.5"
  }
 },
 "nbformat": 4,
 "nbformat_minor": 4
}
